{
 "cells": [
  {
   "cell_type": "markdown",
   "id": "7fadb15c",
   "metadata": {},
   "source": [
    "# Get CSV from suspicious mailbox\n",
    "\n",
    "Use this python notebook to create a CSV file with the suspicious mailbox data.\n",
    "\n",
    "To labelize your data, create folders with the name of the labels you want to use in you Suspicious mailbox. Then, categorize your emails in these folders."
   ]
  },
  {
   "cell_type": "markdown",
   "id": "531e775d",
   "metadata": {},
   "source": [
    "## Import libraries"
   ]
  },
  {
   "cell_type": "code",
   "execution_count": null,
   "id": "a5d0dd58",
   "metadata": {},
   "outputs": [],
   "source": [
    "import pandas as pd\n",
    "from collections import defaultdict"
   ]
  },
  {
   "cell_type": "code",
   "execution_count": null,
   "id": "5b01cf4a",
   "metadata": {},
   "outputs": [],
   "source": [
    "import imaplib\n",
    "import email\n",
    "from email import policy\n",
    "from bs4 import BeautifulSoup\n",
    "import chardet"
   ]
  },
  {
   "cell_type": "markdown",
   "id": "11220178",
   "metadata": {},
   "source": [
    "## Set parameters"
   ]
  },
  {
   "cell_type": "markdown",
   "id": "7fe772ac",
   "metadata": {},
   "source": [
    "Set the parameters for the .csv dataset created from the suspicious mailbox.\n",
    "\n",
    "- **FOLDERS**: List of folder names in your Suspicious mailbox to use as labels. These should match the labels you want to use for the classification.\n",
    "- **OUTPUT_CSV**: The name of the output CSV file.\n",
    "- **EMAIL_SERVER**: The IMAP server address of your email provider.\n",
    "- **EMAIL_PORT**: The IMAP server port of your email provider.\n",
    "- **EMAIL_USERNAME**: The username for your email account.\n",
    "- **EMAIL_PASSWORD**: The password for your email account.\n",
    "- **EMAIL_INBOX**: The name of the inbox folder to read emails from."
   ]
  },
  {
   "cell_type": "code",
   "execution_count": null,
   "id": "3c8d821b",
   "metadata": {},
   "outputs": [],
   "source": [
    "FOLDERS = [\n",
    "    \n",
    "]\n",
    "OUTPUT_CSV = ''\n",
    "\n",
    "EMAIL_SERVER = ''\n",
    "EMAIL_PORT = \n",
    "EMAIL_USERNAME = ''\n",
    "EMAIL_PASSWORD = ''\n",
    "EMAIL_INBOX = ''"
   ]
  },
  {
   "cell_type": "markdown",
   "id": "655f4889",
   "metadata": {},
   "source": [
    "## Utils"
   ]
  },
  {
   "cell_type": "code",
   "execution_count": null,
   "id": "18d79137",
   "metadata": {},
   "outputs": [],
   "source": [
    "def get_header_dict_list(msg):\n",
    "    headers = defaultdict(list)\n",
    "    for key, value in msg.items():\n",
    "        headers[key].append(value)\n",
    "    return headers"
   ]
  },
  {
   "cell_type": "markdown",
   "id": "e6728978",
   "metadata": {},
   "source": [
    "## Fetch mails"
   ]
  },
  {
   "cell_type": "code",
   "execution_count": null,
   "id": "43b52f43",
   "metadata": {},
   "outputs": [],
   "source": [
    "df_mailbox = pd.DataFrame(columns=[\"body\", \"label\"])"
   ]
  },
  {
   "cell_type": "code",
   "execution_count": null,
   "id": "4f13bc68",
   "metadata": {},
   "outputs": [],
   "source": [
    "with imaplib.IMAP4_SSL(EMAIL_SERVER, EMAIL_PORT) as imap_server:\n",
    "    imap_server.login(EMAIL_USERNAME, EMAIL_PASSWORD)\n",
    "    imap_server.select(EMAIL_INBOX)\n",
    "\n",
    "    print('Connected to IMAP server')\n",
    "\n",
    "    for folder in FOLDERS:\n",
    "        status, _ = imap_server.select(folder)\n",
    "        if status != \"OK\":\n",
    "            print(f\"Failed to open folder: {folder}\")\n",
    "            continue\n",
    "\n",
    "        print(f\"\\nFolder: {folder}\")\n",
    "\n",
    "        # Fetch email IDs\n",
    "        status, email_ids = imap_server.search(None, 'ALL')\n",
    "        if status == \"OK\":\n",
    "            email_ids = email_ids[0].split()\n",
    "            if not email_ids:\n",
    "                print(\"No emails found.\")\n",
    "                continue\n",
    "\n",
    "            for email_id in email_ids:\n",
    "                print(f\"Email ID: {email_id}\")\n",
    "                # email_id = b'185'\n",
    "                status, msg_data = imap_server.fetch(email_id, '(RFC822)')\n",
    "                msg_bytes = msg_data[0][1]\n",
    "                msg = email.message_from_bytes(msg_bytes, policy=policy.default)\n",
    "\n",
    "                # Get attached emls from email\n",
    "                for part in msg.iter_attachments():\n",
    "                    content_type = part.get_content_type()\n",
    "\n",
    "                    if content_type == 'message/rfc822':\n",
    "                        payload = part.get_payload()\n",
    "                        if isinstance(payload, list) and payload:\n",
    "                            for item in payload:\n",
    "                                if isinstance(item, email.message.EmailMessage):\n",
    "                                    headers = get_header_dict_list(item)\n",
    "\n",
    "                                    body_plain = None\n",
    "                                    body_html = None\n",
    "\n",
    "                                    part_plain = item.get_body(preferencelist=('plain'))\n",
    "                                    if part_plain:\n",
    "                                        raw_plain = part_plain.get_payload(decode=True)\n",
    "                                        if isinstance(raw_plain, bytes):\n",
    "                                            enc = chardet.detect(raw_plain)['encoding'] or 'utf-8'\n",
    "                                            try:\n",
    "                                                body_plain = raw_plain.decode(enc)\n",
    "                                            except UnicodeDecodeError:\n",
    "                                                body_plain = raw_plain.decode('utf-8', errors='replace')\n",
    "                                        else:\n",
    "                                            body_plain = str(raw_plain)\n",
    "\n",
    "                                    part_html = item.get_body(preferencelist=('html'))\n",
    "                                    if part_html:\n",
    "                                        raw_html = part_html.get_payload(decode=True)\n",
    "                                        if isinstance(raw_html, bytes):\n",
    "                                            enc = chardet.detect(raw_html)['encoding'] or 'utf-8'\n",
    "                                            try:\n",
    "                                                body_html = raw_html.decode(enc)\n",
    "                                            except UnicodeDecodeError:\n",
    "                                                body_html = raw_html.decode('utf-8', errors='replace')\n",
    "                                        else:\n",
    "                                            body_html = str(raw_html)\n",
    "\n",
    "                                    if not body_plain and body_html:\n",
    "                                        body_plain = BeautifulSoup(body_html, 'html.parser').get_text()\n",
    "\n",
    "                                    new_row = {\n",
    "                                        \"body\": body_plain,\n",
    "                                        \"label\": folder,\n",
    "                                    }\n",
    "\n",
    "                                    df_mailbox = pd.concat([df_mailbox, pd.DataFrame([new_row])], ignore_index=True)"
   ]
  },
  {
   "cell_type": "code",
   "execution_count": null,
   "id": "4bf24ef0",
   "metadata": {},
   "outputs": [],
   "source": [
    "df_mailbox['label'].value_counts().plot(kind='bar', title='Email Labels Distribution')"
   ]
  },
  {
   "cell_type": "code",
   "execution_count": null,
   "id": "b23cb502",
   "metadata": {},
   "outputs": [],
   "source": [
    "df_mailbox.to_csv(OUTPUT_CSV, index=False)"
   ]
  }
 ],
 "metadata": {
  "kernelspec": {
   "display_name": "Python 3",
   "language": "python",
   "name": "python3"
  },
  "language_info": {
   "codemirror_mode": {
    "name": "ipython",
    "version": 3
   },
   "file_extension": ".py",
   "mimetype": "text/x-python",
   "name": "python",
   "nbconvert_exporter": "python",
   "pygments_lexer": "ipython3",
   "version": "3.10.0"
  }
 },
 "nbformat": 4,
 "nbformat_minor": 5
}
